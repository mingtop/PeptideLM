{
 "cells": [
  {
   "cell_type": "markdown",
   "metadata": {
    "colab_type": "text",
    "id": "view-in-github"
   },
   "source": [
    "<a href=\"https://colab.research.google.com/github/agemagician/ProtTrans/blob/master/Embedding/PyTorch/Basic/ProtBert.ipynb\" target=\"_parent\"><img src=\"https://colab.research.google.com/assets/colab-badge.svg\" alt=\"Open In Colab\"/></a>"
   ]
  },
  {
   "cell_type": "markdown",
   "metadata": {
    "colab_type": "text",
    "id": "fXFGYhQo-h2F"
   },
   "source": [
    "<h3> Extracting protein sequences' features using ProtBert pretrained-model <h3>"
   ]
  },
  {
   "cell_type": "markdown",
   "metadata": {
    "colab_type": "text",
    "id": "eRKqEJ5L-h2H"
   },
   "source": [
    "<b>1. Load necessry libraries including huggingface transformers<b>"
   ]
  },
  {
   "cell_type": "code",
   "execution_count": null,
   "metadata": {
    "colab": {
     "base_uri": "https://localhost:8080/",
     "height": 102
    },
    "colab_type": "code",
    "id": "GXAKFATm-mbs",
    "outputId": "623498d6-bbc4-493d-d722-a0951c8441f9"
   },
   "outputs": [],
   "source": [
    "!pip install -q transformers"
   ]
  },
  {
   "cell_type": "code",
   "execution_count": 14,
   "metadata": {
    "colab": {},
    "colab_type": "code",
    "id": "jd3YQUd1-h2I"
   },
   "outputs": [],
   "source": [
    "import torch\n",
    "from transformers import AutoTokenizer, AutoModel, pipeline\n",
    "from transformers import BertForMaskedLM,GPT2LMHeadModel\n",
    "import re\n",
    "import numpy as np\n",
    "import os\n",
    "import requests\n",
    "from tqdm.auto import tqdm"
   ]
  },
  {
   "cell_type": "markdown",
   "metadata": {
    "colab_type": "text",
    "id": "hAKCMu_2-h2V"
   },
   "source": [
    "<b>2. Load the vocabulary and ProtBert Model<b>"
   ]
  },
  {
   "cell_type": "code",
   "execution_count": 2,
   "metadata": {
    "colab": {
     "base_uri": "https://localhost:8080/",
     "height": 115,
     "referenced_widgets": [
      "c2f7806b750e4d3cbc7eca56b433e297",
      "552d3c4b5cc3492781115be450e4e3b7",
      "f6a30eb703924f39a2d1871cd5d790fa",
      "53daecb4f2d643ecb9dc87ba7b195318",
      "0e993b716be84e71806c8b0028522b2f",
      "1d103ef8e9a14ca5b1f57079372a9615",
      "aa3e0cd9d7d142ab976bc96c56ca295c",
      "f568e4e282254f98a46484d6cbf7e7f9",
      "36f263d60c1a4071a1ba3a4d3c156d47",
      "a935ca717870498cb1a524199005ce49",
      "142da5ae7175430f866e45c65f530499",
      "ba51cb0320d248b6b3213c00def9c2da",
      "5c79625a65164c6ab0b95a3f6eec2657",
      "704bf69a61354623851a86ac08214c6e",
      "671076a72248430d9829a73d1f282d7f",
      "0e46c95a421149c3890d08ac8370d6b2"
     ]
    },
    "colab_type": "code",
    "id": "HS8i5sOJ-h2W",
    "outputId": "ee80e00b-5440-434c-c799-5c491e7a892a"
   },
   "outputs": [],
   "source": [
    "# orginal Prot_BERT\n",
    "tokenizer = AutoTokenizer.from_pretrained(\"Rostlab/prot_bert\", do_lower_case=False)\n",
    "model = AutoModel.from_pretrained(\"Rostlab/prot_bert\")"
   ]
  },
  {
   "cell_type": "code",
   "execution_count": 3,
   "metadata": {},
   "outputs": [],
   "source": [
    "# our_AMP_BERT\n",
    "tokenizer = AutoTokenizer.from_pretrained(\"/workspace/git/transformers-/examples/language-modeling/test-mlm-BERT-base-AMP-Epoch100-maxLen64/\", do_lower_case=False)\n",
    "model = BertForMaskedLM.from_pretrained(\"/workspace/git/transformers-/examples/language-modeling/test-mlm-BERT-base-AMP-Epoch100-maxLen64/\")"
   ]
  },
  {
   "cell_type": "code",
   "execution_count": 4,
   "metadata": {
    "colab": {
     "base_uri": "https://localhost:8080/",
     "height": 66,
     "referenced_widgets": [
      "06f451a806284f0d90aeea93e347d009",
      "f3ce0768f9aa4ba3b5a1f6a25353c804",
      "bee98a37856642cd9b5e3c29672861c0",
      "91105b770312483bae5338aab57359ed",
      "c4f2791a4fd84ca7a014c946349611d6",
      "82c90ab4c7d649e097523d2fc492aeb4",
      "863ab32db9024978ac3174c2656db292",
      "a057a4a9b5e54404b52060ebee6aae0a"
     ]
    },
    "colab_type": "code",
    "id": "ERtkR05t-h2c",
    "outputId": "cc258e28-8098-4e1e-d778-528361ab97cc"
   },
   "outputs": [
    {
     "data": {
      "text/plain": [
       "['[UNK]', '[SEP]', '[PAD]', '[CLS]', '[MASK]']"
      ]
     },
     "execution_count": 4,
     "metadata": {},
     "output_type": "execute_result"
    }
   ],
   "source": [
    "tokenizer.all_special_tokens"
   ]
  },
  {
   "cell_type": "code",
   "execution_count": 5,
   "metadata": {},
   "outputs": [
    {
     "data": {
      "text/plain": [
       "{'S': 10,\n",
       " 'T': 15,\n",
       " 'Q': 18,\n",
       " 'X': 25,\n",
       " 'B': 27,\n",
       " 'Z': 28,\n",
       " 'A': 6,\n",
       " 'N': 17,\n",
       " '[UNK]': 1,\n",
       " 'G': 7,\n",
       " 'W': 24,\n",
       " '[PAD]': 0,\n",
       " 'P': 16,\n",
       " 'Y': 20,\n",
       " 'H': 22,\n",
       " 'C': 23,\n",
       " 'O': 29,\n",
       " '[MASK]': 4,\n",
       " 'U': 26,\n",
       " 'E': 9,\n",
       " '[SEP]': 3,\n",
       " 'M': 21,\n",
       " 'K': 12,\n",
       " 'V': 8,\n",
       " 'D': 14,\n",
       " '[CLS]': 2,\n",
       " 'F': 19,\n",
       " 'I': 11,\n",
       " 'R': 13,\n",
       " 'L': 5}"
      ]
     },
     "execution_count": 5,
     "metadata": {},
     "output_type": "execute_result"
    }
   ],
   "source": [
    "tokenizer.vocab"
   ]
  },
  {
   "cell_type": "markdown",
   "metadata": {
    "colab_type": "text",
    "id": "XDnhEiyI-h2g"
   },
   "source": [
    "<b>3. Load the model into the GPU if avilabile<b>"
   ]
  },
  {
   "cell_type": "code",
   "execution_count": 6,
   "metadata": {
    "colab": {},
    "colab_type": "code",
    "id": "KNweYMPQ-h2h"
   },
   "outputs": [],
   "source": [
    "fm = pipeline('fill-mask', model=model, tokenizer=tokenizer,device=0)"
   ]
  },
  {
   "cell_type": "code",
   "execution_count": 7,
   "metadata": {},
   "outputs": [],
   "source": [
    "with open('/workspace/git/transformers-/examples/language-modeling/uniprot_sprot_60_withSpace.txt') as f:\n",
    "    orgSamples=f.readlines()"
   ]
  },
  {
   "cell_type": "code",
   "execution_count": 8,
   "metadata": {},
   "outputs": [],
   "source": [
    "idx =5\n",
    "test_masked_input = orgSamples[idx]"
   ]
  },
  {
   "cell_type": "code",
   "execution_count": 9,
   "metadata": {},
   "outputs": [
    {
     "name": "stdout",
     "output_type": "stream",
     "text": [
      "A A A I S C V G S K E C L P K C K A Q G C K S G K C M N K K C K C Y C\n",
      "\n"
     ]
    }
   ],
   "source": [
    "print(test_masked_input)"
   ]
  },
  {
   "cell_type": "code",
   "execution_count": 10,
   "metadata": {
    "scrolled": true
   },
   "outputs": [
    {
     "data": {
      "text/plain": [
       "[{'sequence': 'A A A I S C V G S K E C L P K C K A Q G C K S G K C M N K K C K C Y C',\n",
       "  'score': 0.9403852820396423,\n",
       "  'token': 6,\n",
       "  'token_str': 'A'},\n",
       " {'sequence': 'A A G I S C V G S K E C L P K C K A Q G C K S G K C M N K K C K C Y C',\n",
       "  'score': 0.045312393456697464,\n",
       "  'token': 7,\n",
       "  'token_str': 'G'},\n",
       " {'sequence': 'A A T I S C V G S K E C L P K C K A Q G C K S G K C M N K K C K C Y C',\n",
       "  'score': 0.007608081679791212,\n",
       "  'token': 15,\n",
       "  'token_str': 'T'},\n",
       " {'sequence': 'A A V I S C V G S K E C L P K C K A Q G C K S G K C M N K K C K C Y C',\n",
       "  'score': 0.0032630241475999355,\n",
       "  'token': 8,\n",
       "  'token_str': 'V'},\n",
       " {'sequence': 'A A S I S C V G S K E C L P K C K A Q G C K S G K C M N K K C K C Y C',\n",
       "  'score': 0.0015351864276453853,\n",
       "  'token': 10,\n",
       "  'token_str': 'S'}]"
      ]
     },
     "execution_count": 10,
     "metadata": {},
     "output_type": "execute_result"
    }
   ],
   "source": [
    "fm('A A [MASK] I S C V G S K E C L P K C K A Q G C K S G K C M N K K C K C Y C')"
   ]
  },
  {
   "cell_type": "markdown",
   "metadata": {},
   "source": [
    "# 4. GPT-2  Demo"
   ]
  },
  {
   "cell_type": "markdown",
   "metadata": {},
   "source": [
    "model =  ./test-clm-GPT2-test/\n",
    "\n",
    "change the path to the model.zip path, then can do peptile generation. "
   ]
  },
  {
   "cell_type": "code",
   "execution_count": 44,
   "metadata": {},
   "outputs": [],
   "source": [
    "\n",
    "tokenizer = AutoTokenizer.from_pretrained(\"/workspace/git/transformers-/examples/language-modeling/test-clm-GPT2-test/\", do_lower_case=False)\n",
    "model = GPT2LMHeadModel.from_pretrained(\"/workspace/git/transformers-/examples/language-modeling/test-clm-GPT2-test/\")"
   ]
  },
  {
   "cell_type": "code",
   "execution_count": 45,
   "metadata": {},
   "outputs": [],
   "source": [
    "tg = pipeline('text-generation', model=model, tokenizer=tokenizer,device=0)"
   ]
  },
  {
   "cell_type": "markdown",
   "metadata": {},
   "source": [
    "### GroundTruth Sequence:  A A A I S C V G S K E C L P K C K A Q G C K S G K C M N K K C K C Y C"
   ]
  },
  {
   "cell_type": "markdown",
   "metadata": {},
   "source": [
    "\"A A A I S\" 是初始序列  , max_length is the maxLength of generation, the generation can be terminal by the ending token, which means the generated result may less than 60. "
   ]
  },
  {
   "cell_type": "code",
   "execution_count": 56,
   "metadata": {
    "scrolled": true
   },
   "outputs": [
    {
     "name": "stderr",
     "output_type": "stream",
     "text": [
      "Setting `pad_token_id` to `eos_token_id`:50256 for open-end generation.\n"
     ]
    },
    {
     "data": {
      "text/plain": [
       "[{'generated_text': 'A A A I S Q T Q R L S L L T E A F G L I D V T P A G S H F E Q D Q E M A A F V R A L H D Y E K R M S VM A A A K G V E Y'}]"
      ]
     },
     "execution_count": 56,
     "metadata": {},
     "output_type": "execute_result"
    }
   ],
   "source": [
    "tg(\"A A A I S\", max_length=60, num_return_sequences=1)"
   ]
  },
  {
   "cell_type": "code",
   "execution_count": 51,
   "metadata": {},
   "outputs": [
    {
     "name": "stderr",
     "output_type": "stream",
     "text": [
      "Setting `pad_token_id` to `eos_token_id`:50256 for open-end generation.\n"
     ]
    },
    {
     "data": {
      "text/plain": [
       "[{'generated_text': 'A A A I S C M S D D S I W N N L V A T A L T P T V F F L S G A L I T A M Q F I Q RM A A A K G V W V T I L G A A L G A I'},\n",
       " {'generated_text': 'A A A I S Q T Q R L S K K L G K V H G I R M S T K M V E D T P S I R G M I N K V K H L V M V E EM A A A K G V E Y L N D'},\n",
       " {'generated_text': 'A A A I S Q T Q R L S L L T E S F D R E Y L N R X A F A K X A V A T G KM A A A K G V E Y L N A F R I T F K P V A R K K'},\n",
       " {'generated_text': 'A A A I S L T G W L S V L I F T F S L A L V V W G R S G LM D A A N L S L T G W L T I M V L T F S L A V V W G R N G FM'},\n",
       " {'generated_text': 'A A A I S C M T G K L W N G E C V D H S C C E G L E V R K P P R I A Y G I H T C Y Y E CK F C P E G K C VK F G K V L K'},\n",
       " {'generated_text': 'A A A I S C M S D D S L V R L I SM L A A V V F L A L F L Y A I A T A D P G P G I S F L Y F R E E T K G K L Q L S K D P'},\n",
       " {'generated_text': 'A A A I S Q T Q R L S L L T E H K AM A A A K G A R E K I K L E S T A G T G H F Y T T T K N K K T M P E K M A I M K F D'},\n",
       " {'generated_text': 'A A A I S Q T Q R L S K K F Q S T A N H A A T R V P A W I K P A R K H V V E Y E G K L D A A L R R F RM A A A K G A R E'},\n",
       " {'generated_text': 'A A A I S Q T Q R L S L L T E H K A S C A A Q E S R G M I G K V N S E L K D D C P N C G H T I G E E L V C E Y T P C T C'},\n",
       " {'generated_text': 'A A A I S G M V N L L G L T K I E K I VM K K T S L A C S E C G S R N Y T V N V S G T Q Y C E K C R K A G E R A G A R C'}]"
      ]
     },
     "execution_count": 51,
     "metadata": {},
     "output_type": "execute_result"
    }
   ],
   "source": [
    "tg(\"A A A I S\", max_length=60, num_return_sequences=10)"
   ]
  },
  {
   "cell_type": "code",
   "execution_count": 52,
   "metadata": {},
   "outputs": [
    {
     "name": "stderr",
     "output_type": "stream",
     "text": [
      "Setting `pad_token_id` to `eos_token_id`:50256 for open-end generation.\n"
     ]
    },
    {
     "data": {
      "text/plain": [
       "[{'generated_text': 'A A A I S C V G S K E C L P K C K A Q G C K S G K C M N G K C H C Y PM A A A K G V S C E E C K P K C R T Q G C K N D R'},\n",
       " {'generated_text': 'A A A I S C V G S K E C L P K C K A Q G C K S G K C M N G K C H C M K IG A A A N Q H L C G S H L V E A L Y L V C G E K'},\n",
       " {'generated_text': 'A A A I S C V G S K E C L P K C K A Q G C K S G K C M N K K C K C Y NG A A A N Q H L C G S H L V E A L Y L V C G E K G'},\n",
       " {'generated_text': 'A A A I S C V G S K E C L P K C K A Q G C K S G K C M N G K C M N G K C K C Y QM A A A K G V G K T R F K D K A R Q N T'},\n",
       " {'generated_text': 'A A A I S C V G S K E C L P K C K A Q G C K S G K C M N G K C H C Y YM A A A K L L E I L V C P L T K D R L P K H K A T'}]"
      ]
     },
     "execution_count": 52,
     "metadata": {},
     "output_type": "execute_result"
    }
   ],
   "source": [
    "tg(\"A A A I S C V G S K E C L P K C K A Q G C K S G K C\", max_length=60, num_return_sequences=5)"
   ]
  },
  {
   "cell_type": "code",
   "execution_count": 53,
   "metadata": {},
   "outputs": [
    {
     "data": {
      "text/plain": [
       "[32, 317, 317]"
      ]
     },
     "execution_count": 53,
     "metadata": {},
     "output_type": "execute_result"
    }
   ],
   "source": [
    "tokenizer.encode('A A A')"
   ]
  },
  {
   "cell_type": "code",
   "execution_count": 54,
   "metadata": {
    "scrolled": true
   },
   "outputs": [
    {
     "data": {
      "text/plain": [
       "'A A A'"
      ]
     },
     "execution_count": 54,
     "metadata": {},
     "output_type": "execute_result"
    }
   ],
   "source": [
    "tokenizer.convert_tokens_to_string(tokenizer.convert_ids_to_tokens([32, 317, 317]))"
   ]
  },
  {
   "cell_type": "code",
   "execution_count": 55,
   "metadata": {},
   "outputs": [
    {
     "data": {
      "text/plain": [
       "['A', 'ĠA', 'ĠA']"
      ]
     },
     "execution_count": 55,
     "metadata": {},
     "output_type": "execute_result"
    }
   ],
   "source": [
    "tokenizer.convert_ids_to_tokens([32, 317, 317])"
   ]
  },
  {
   "cell_type": "code",
   "execution_count": null,
   "metadata": {},
   "outputs": [],
   "source": []
  }
 ],
 "metadata": {
  "accelerator": "GPU",
  "colab": {
   "include_colab_link": true,
   "name": "Bert.ipynb",
   "provenance": []
  },
  "kernelspec": {
   "display_name": "Python 3",
   "language": "python",
   "name": "python3"
  },
  "language_info": {
   "codemirror_mode": {
    "name": "ipython",
    "version": 3
   },
   "file_extension": ".py",
   "mimetype": "text/x-python",
   "name": "python",
   "nbconvert_exporter": "python",
   "pygments_lexer": "ipython3",
   "version": "3.7.7"
  },
  "widgets": {
   "application/vnd.jupyter.widget-state+json": {
    "06f451a806284f0d90aeea93e347d009": {
     "model_module": "@jupyter-widgets/controls",
     "model_name": "HBoxModel",
     "state": {
      "_dom_classes": [],
      "_model_module": "@jupyter-widgets/controls",
      "_model_module_version": "1.5.0",
      "_model_name": "HBoxModel",
      "_view_count": null,
      "_view_module": "@jupyter-widgets/controls",
      "_view_module_version": "1.5.0",
      "_view_name": "HBoxView",
      "box_style": "",
      "children": [
       "IPY_MODEL_bee98a37856642cd9b5e3c29672861c0",
       "IPY_MODEL_91105b770312483bae5338aab57359ed"
      ],
      "layout": "IPY_MODEL_f3ce0768f9aa4ba3b5a1f6a25353c804"
     }
    },
    "0e46c95a421149c3890d08ac8370d6b2": {
     "model_module": "@jupyter-widgets/base",
     "model_name": "LayoutModel",
     "state": {
      "_model_module": "@jupyter-widgets/base",
      "_model_module_version": "1.2.0",
      "_model_name": "LayoutModel",
      "_view_count": null,
      "_view_module": "@jupyter-widgets/base",
      "_view_module_version": "1.2.0",
      "_view_name": "LayoutView",
      "align_content": null,
      "align_items": null,
      "align_self": null,
      "border": null,
      "bottom": null,
      "display": null,
      "flex": null,
      "flex_flow": null,
      "grid_area": null,
      "grid_auto_columns": null,
      "grid_auto_flow": null,
      "grid_auto_rows": null,
      "grid_column": null,
      "grid_gap": null,
      "grid_row": null,
      "grid_template_areas": null,
      "grid_template_columns": null,
      "grid_template_rows": null,
      "height": null,
      "justify_content": null,
      "justify_items": null,
      "left": null,
      "margin": null,
      "max_height": null,
      "max_width": null,
      "min_height": null,
      "min_width": null,
      "object_fit": null,
      "object_position": null,
      "order": null,
      "overflow": null,
      "overflow_x": null,
      "overflow_y": null,
      "padding": null,
      "right": null,
      "top": null,
      "visibility": null,
      "width": null
     }
    },
    "0e993b716be84e71806c8b0028522b2f": {
     "model_module": "@jupyter-widgets/controls",
     "model_name": "ProgressStyleModel",
     "state": {
      "_model_module": "@jupyter-widgets/controls",
      "_model_module_version": "1.5.0",
      "_model_name": "ProgressStyleModel",
      "_view_count": null,
      "_view_module": "@jupyter-widgets/base",
      "_view_module_version": "1.2.0",
      "_view_name": "StyleView",
      "bar_color": null,
      "description_width": "initial"
     }
    },
    "142da5ae7175430f866e45c65f530499": {
     "model_module": "@jupyter-widgets/controls",
     "model_name": "FloatProgressModel",
     "state": {
      "_dom_classes": [],
      "_model_module": "@jupyter-widgets/controls",
      "_model_module_version": "1.5.0",
      "_model_name": "FloatProgressModel",
      "_view_count": null,
      "_view_module": "@jupyter-widgets/controls",
      "_view_module_version": "1.5.0",
      "_view_name": "ProgressView",
      "bar_style": "success",
      "description": "Downloading: 100%",
      "description_tooltip": null,
      "layout": "IPY_MODEL_704bf69a61354623851a86ac08214c6e",
      "max": 81,
      "min": 0,
      "orientation": "horizontal",
      "style": "IPY_MODEL_5c79625a65164c6ab0b95a3f6eec2657",
      "value": 81
     }
    },
    "1d103ef8e9a14ca5b1f57079372a9615": {
     "model_module": "@jupyter-widgets/base",
     "model_name": "LayoutModel",
     "state": {
      "_model_module": "@jupyter-widgets/base",
      "_model_module_version": "1.2.0",
      "_model_name": "LayoutModel",
      "_view_count": null,
      "_view_module": "@jupyter-widgets/base",
      "_view_module_version": "1.2.0",
      "_view_name": "LayoutView",
      "align_content": null,
      "align_items": null,
      "align_self": null,
      "border": null,
      "bottom": null,
      "display": null,
      "flex": null,
      "flex_flow": null,
      "grid_area": null,
      "grid_auto_columns": null,
      "grid_auto_flow": null,
      "grid_auto_rows": null,
      "grid_column": null,
      "grid_gap": null,
      "grid_row": null,
      "grid_template_areas": null,
      "grid_template_columns": null,
      "grid_template_rows": null,
      "height": null,
      "justify_content": null,
      "justify_items": null,
      "left": null,
      "margin": null,
      "max_height": null,
      "max_width": null,
      "min_height": null,
      "min_width": null,
      "object_fit": null,
      "object_position": null,
      "order": null,
      "overflow": null,
      "overflow_x": null,
      "overflow_y": null,
      "padding": null,
      "right": null,
      "top": null,
      "visibility": null,
      "width": null
     }
    },
    "36f263d60c1a4071a1ba3a4d3c156d47": {
     "model_module": "@jupyter-widgets/controls",
     "model_name": "HBoxModel",
     "state": {
      "_dom_classes": [],
      "_model_module": "@jupyter-widgets/controls",
      "_model_module_version": "1.5.0",
      "_model_name": "HBoxModel",
      "_view_count": null,
      "_view_module": "@jupyter-widgets/controls",
      "_view_module_version": "1.5.0",
      "_view_name": "HBoxView",
      "box_style": "",
      "children": [
       "IPY_MODEL_142da5ae7175430f866e45c65f530499",
       "IPY_MODEL_ba51cb0320d248b6b3213c00def9c2da"
      ],
      "layout": "IPY_MODEL_a935ca717870498cb1a524199005ce49"
     }
    },
    "53daecb4f2d643ecb9dc87ba7b195318": {
     "model_module": "@jupyter-widgets/controls",
     "model_name": "HTMLModel",
     "state": {
      "_dom_classes": [],
      "_model_module": "@jupyter-widgets/controls",
      "_model_module_version": "1.5.0",
      "_model_name": "HTMLModel",
      "_view_count": null,
      "_view_module": "@jupyter-widgets/controls",
      "_view_module_version": "1.5.0",
      "_view_name": "HTMLView",
      "description": "",
      "description_tooltip": null,
      "layout": "IPY_MODEL_f568e4e282254f98a46484d6cbf7e7f9",
      "placeholder": "​",
      "style": "IPY_MODEL_aa3e0cd9d7d142ab976bc96c56ca295c",
      "value": " 313/313 [00:00&lt;00:00, 780B/s]"
     }
    },
    "552d3c4b5cc3492781115be450e4e3b7": {
     "model_module": "@jupyter-widgets/base",
     "model_name": "LayoutModel",
     "state": {
      "_model_module": "@jupyter-widgets/base",
      "_model_module_version": "1.2.0",
      "_model_name": "LayoutModel",
      "_view_count": null,
      "_view_module": "@jupyter-widgets/base",
      "_view_module_version": "1.2.0",
      "_view_name": "LayoutView",
      "align_content": null,
      "align_items": null,
      "align_self": null,
      "border": null,
      "bottom": null,
      "display": null,
      "flex": null,
      "flex_flow": null,
      "grid_area": null,
      "grid_auto_columns": null,
      "grid_auto_flow": null,
      "grid_auto_rows": null,
      "grid_column": null,
      "grid_gap": null,
      "grid_row": null,
      "grid_template_areas": null,
      "grid_template_columns": null,
      "grid_template_rows": null,
      "height": null,
      "justify_content": null,
      "justify_items": null,
      "left": null,
      "margin": null,
      "max_height": null,
      "max_width": null,
      "min_height": null,
      "min_width": null,
      "object_fit": null,
      "object_position": null,
      "order": null,
      "overflow": null,
      "overflow_x": null,
      "overflow_y": null,
      "padding": null,
      "right": null,
      "top": null,
      "visibility": null,
      "width": null
     }
    },
    "5c79625a65164c6ab0b95a3f6eec2657": {
     "model_module": "@jupyter-widgets/controls",
     "model_name": "ProgressStyleModel",
     "state": {
      "_model_module": "@jupyter-widgets/controls",
      "_model_module_version": "1.5.0",
      "_model_name": "ProgressStyleModel",
      "_view_count": null,
      "_view_module": "@jupyter-widgets/base",
      "_view_module_version": "1.2.0",
      "_view_name": "StyleView",
      "bar_color": null,
      "description_width": "initial"
     }
    },
    "671076a72248430d9829a73d1f282d7f": {
     "model_module": "@jupyter-widgets/controls",
     "model_name": "DescriptionStyleModel",
     "state": {
      "_model_module": "@jupyter-widgets/controls",
      "_model_module_version": "1.5.0",
      "_model_name": "DescriptionStyleModel",
      "_view_count": null,
      "_view_module": "@jupyter-widgets/base",
      "_view_module_version": "1.2.0",
      "_view_name": "StyleView",
      "description_width": ""
     }
    },
    "704bf69a61354623851a86ac08214c6e": {
     "model_module": "@jupyter-widgets/base",
     "model_name": "LayoutModel",
     "state": {
      "_model_module": "@jupyter-widgets/base",
      "_model_module_version": "1.2.0",
      "_model_name": "LayoutModel",
      "_view_count": null,
      "_view_module": "@jupyter-widgets/base",
      "_view_module_version": "1.2.0",
      "_view_name": "LayoutView",
      "align_content": null,
      "align_items": null,
      "align_self": null,
      "border": null,
      "bottom": null,
      "display": null,
      "flex": null,
      "flex_flow": null,
      "grid_area": null,
      "grid_auto_columns": null,
      "grid_auto_flow": null,
      "grid_auto_rows": null,
      "grid_column": null,
      "grid_gap": null,
      "grid_row": null,
      "grid_template_areas": null,
      "grid_template_columns": null,
      "grid_template_rows": null,
      "height": null,
      "justify_content": null,
      "justify_items": null,
      "left": null,
      "margin": null,
      "max_height": null,
      "max_width": null,
      "min_height": null,
      "min_width": null,
      "object_fit": null,
      "object_position": null,
      "order": null,
      "overflow": null,
      "overflow_x": null,
      "overflow_y": null,
      "padding": null,
      "right": null,
      "top": null,
      "visibility": null,
      "width": null
     }
    },
    "82c90ab4c7d649e097523d2fc492aeb4": {
     "model_module": "@jupyter-widgets/base",
     "model_name": "LayoutModel",
     "state": {
      "_model_module": "@jupyter-widgets/base",
      "_model_module_version": "1.2.0",
      "_model_name": "LayoutModel",
      "_view_count": null,
      "_view_module": "@jupyter-widgets/base",
      "_view_module_version": "1.2.0",
      "_view_name": "LayoutView",
      "align_content": null,
      "align_items": null,
      "align_self": null,
      "border": null,
      "bottom": null,
      "display": null,
      "flex": null,
      "flex_flow": null,
      "grid_area": null,
      "grid_auto_columns": null,
      "grid_auto_flow": null,
      "grid_auto_rows": null,
      "grid_column": null,
      "grid_gap": null,
      "grid_row": null,
      "grid_template_areas": null,
      "grid_template_columns": null,
      "grid_template_rows": null,
      "height": null,
      "justify_content": null,
      "justify_items": null,
      "left": null,
      "margin": null,
      "max_height": null,
      "max_width": null,
      "min_height": null,
      "min_width": null,
      "object_fit": null,
      "object_position": null,
      "order": null,
      "overflow": null,
      "overflow_x": null,
      "overflow_y": null,
      "padding": null,
      "right": null,
      "top": null,
      "visibility": null,
      "width": null
     }
    },
    "863ab32db9024978ac3174c2656db292": {
     "model_module": "@jupyter-widgets/controls",
     "model_name": "DescriptionStyleModel",
     "state": {
      "_model_module": "@jupyter-widgets/controls",
      "_model_module_version": "1.5.0",
      "_model_name": "DescriptionStyleModel",
      "_view_count": null,
      "_view_module": "@jupyter-widgets/base",
      "_view_module_version": "1.2.0",
      "_view_name": "StyleView",
      "description_width": ""
     }
    },
    "91105b770312483bae5338aab57359ed": {
     "model_module": "@jupyter-widgets/controls",
     "model_name": "HTMLModel",
     "state": {
      "_dom_classes": [],
      "_model_module": "@jupyter-widgets/controls",
      "_model_module_version": "1.5.0",
      "_model_name": "HTMLModel",
      "_view_count": null,
      "_view_module": "@jupyter-widgets/controls",
      "_view_module_version": "1.5.0",
      "_view_name": "HTMLView",
      "description": "",
      "description_tooltip": null,
      "layout": "IPY_MODEL_a057a4a9b5e54404b52060ebee6aae0a",
      "placeholder": "​",
      "style": "IPY_MODEL_863ab32db9024978ac3174c2656db292",
      "value": " 1.68G/1.68G [00:23&lt;00:00, 72.9MB/s]"
     }
    },
    "a057a4a9b5e54404b52060ebee6aae0a": {
     "model_module": "@jupyter-widgets/base",
     "model_name": "LayoutModel",
     "state": {
      "_model_module": "@jupyter-widgets/base",
      "_model_module_version": "1.2.0",
      "_model_name": "LayoutModel",
      "_view_count": null,
      "_view_module": "@jupyter-widgets/base",
      "_view_module_version": "1.2.0",
      "_view_name": "LayoutView",
      "align_content": null,
      "align_items": null,
      "align_self": null,
      "border": null,
      "bottom": null,
      "display": null,
      "flex": null,
      "flex_flow": null,
      "grid_area": null,
      "grid_auto_columns": null,
      "grid_auto_flow": null,
      "grid_auto_rows": null,
      "grid_column": null,
      "grid_gap": null,
      "grid_row": null,
      "grid_template_areas": null,
      "grid_template_columns": null,
      "grid_template_rows": null,
      "height": null,
      "justify_content": null,
      "justify_items": null,
      "left": null,
      "margin": null,
      "max_height": null,
      "max_width": null,
      "min_height": null,
      "min_width": null,
      "object_fit": null,
      "object_position": null,
      "order": null,
      "overflow": null,
      "overflow_x": null,
      "overflow_y": null,
      "padding": null,
      "right": null,
      "top": null,
      "visibility": null,
      "width": null
     }
    },
    "a935ca717870498cb1a524199005ce49": {
     "model_module": "@jupyter-widgets/base",
     "model_name": "LayoutModel",
     "state": {
      "_model_module": "@jupyter-widgets/base",
      "_model_module_version": "1.2.0",
      "_model_name": "LayoutModel",
      "_view_count": null,
      "_view_module": "@jupyter-widgets/base",
      "_view_module_version": "1.2.0",
      "_view_name": "LayoutView",
      "align_content": null,
      "align_items": null,
      "align_self": null,
      "border": null,
      "bottom": null,
      "display": null,
      "flex": null,
      "flex_flow": null,
      "grid_area": null,
      "grid_auto_columns": null,
      "grid_auto_flow": null,
      "grid_auto_rows": null,
      "grid_column": null,
      "grid_gap": null,
      "grid_row": null,
      "grid_template_areas": null,
      "grid_template_columns": null,
      "grid_template_rows": null,
      "height": null,
      "justify_content": null,
      "justify_items": null,
      "left": null,
      "margin": null,
      "max_height": null,
      "max_width": null,
      "min_height": null,
      "min_width": null,
      "object_fit": null,
      "object_position": null,
      "order": null,
      "overflow": null,
      "overflow_x": null,
      "overflow_y": null,
      "padding": null,
      "right": null,
      "top": null,
      "visibility": null,
      "width": null
     }
    },
    "aa3e0cd9d7d142ab976bc96c56ca295c": {
     "model_module": "@jupyter-widgets/controls",
     "model_name": "DescriptionStyleModel",
     "state": {
      "_model_module": "@jupyter-widgets/controls",
      "_model_module_version": "1.5.0",
      "_model_name": "DescriptionStyleModel",
      "_view_count": null,
      "_view_module": "@jupyter-widgets/base",
      "_view_module_version": "1.2.0",
      "_view_name": "StyleView",
      "description_width": ""
     }
    },
    "ba51cb0320d248b6b3213c00def9c2da": {
     "model_module": "@jupyter-widgets/controls",
     "model_name": "HTMLModel",
     "state": {
      "_dom_classes": [],
      "_model_module": "@jupyter-widgets/controls",
      "_model_module_version": "1.5.0",
      "_model_name": "HTMLModel",
      "_view_count": null,
      "_view_module": "@jupyter-widgets/controls",
      "_view_module_version": "1.5.0",
      "_view_name": "HTMLView",
      "description": "",
      "description_tooltip": null,
      "layout": "IPY_MODEL_0e46c95a421149c3890d08ac8370d6b2",
      "placeholder": "​",
      "style": "IPY_MODEL_671076a72248430d9829a73d1f282d7f",
      "value": " 81.0/81.0 [00:25&lt;00:00, 3.23B/s]"
     }
    },
    "bee98a37856642cd9b5e3c29672861c0": {
     "model_module": "@jupyter-widgets/controls",
     "model_name": "FloatProgressModel",
     "state": {
      "_dom_classes": [],
      "_model_module": "@jupyter-widgets/controls",
      "_model_module_version": "1.5.0",
      "_model_name": "FloatProgressModel",
      "_view_count": null,
      "_view_module": "@jupyter-widgets/controls",
      "_view_module_version": "1.5.0",
      "_view_name": "ProgressView",
      "bar_style": "success",
      "description": "Downloading: 100%",
      "description_tooltip": null,
      "layout": "IPY_MODEL_82c90ab4c7d649e097523d2fc492aeb4",
      "max": 1684058277,
      "min": 0,
      "orientation": "horizontal",
      "style": "IPY_MODEL_c4f2791a4fd84ca7a014c946349611d6",
      "value": 1684058277
     }
    },
    "c2f7806b750e4d3cbc7eca56b433e297": {
     "model_module": "@jupyter-widgets/controls",
     "model_name": "HBoxModel",
     "state": {
      "_dom_classes": [],
      "_model_module": "@jupyter-widgets/controls",
      "_model_module_version": "1.5.0",
      "_model_name": "HBoxModel",
      "_view_count": null,
      "_view_module": "@jupyter-widgets/controls",
      "_view_module_version": "1.5.0",
      "_view_name": "HBoxView",
      "box_style": "",
      "children": [
       "IPY_MODEL_f6a30eb703924f39a2d1871cd5d790fa",
       "IPY_MODEL_53daecb4f2d643ecb9dc87ba7b195318"
      ],
      "layout": "IPY_MODEL_552d3c4b5cc3492781115be450e4e3b7"
     }
    },
    "c4f2791a4fd84ca7a014c946349611d6": {
     "model_module": "@jupyter-widgets/controls",
     "model_name": "ProgressStyleModel",
     "state": {
      "_model_module": "@jupyter-widgets/controls",
      "_model_module_version": "1.5.0",
      "_model_name": "ProgressStyleModel",
      "_view_count": null,
      "_view_module": "@jupyter-widgets/base",
      "_view_module_version": "1.2.0",
      "_view_name": "StyleView",
      "bar_color": null,
      "description_width": "initial"
     }
    },
    "f3ce0768f9aa4ba3b5a1f6a25353c804": {
     "model_module": "@jupyter-widgets/base",
     "model_name": "LayoutModel",
     "state": {
      "_model_module": "@jupyter-widgets/base",
      "_model_module_version": "1.2.0",
      "_model_name": "LayoutModel",
      "_view_count": null,
      "_view_module": "@jupyter-widgets/base",
      "_view_module_version": "1.2.0",
      "_view_name": "LayoutView",
      "align_content": null,
      "align_items": null,
      "align_self": null,
      "border": null,
      "bottom": null,
      "display": null,
      "flex": null,
      "flex_flow": null,
      "grid_area": null,
      "grid_auto_columns": null,
      "grid_auto_flow": null,
      "grid_auto_rows": null,
      "grid_column": null,
      "grid_gap": null,
      "grid_row": null,
      "grid_template_areas": null,
      "grid_template_columns": null,
      "grid_template_rows": null,
      "height": null,
      "justify_content": null,
      "justify_items": null,
      "left": null,
      "margin": null,
      "max_height": null,
      "max_width": null,
      "min_height": null,
      "min_width": null,
      "object_fit": null,
      "object_position": null,
      "order": null,
      "overflow": null,
      "overflow_x": null,
      "overflow_y": null,
      "padding": null,
      "right": null,
      "top": null,
      "visibility": null,
      "width": null
     }
    },
    "f568e4e282254f98a46484d6cbf7e7f9": {
     "model_module": "@jupyter-widgets/base",
     "model_name": "LayoutModel",
     "state": {
      "_model_module": "@jupyter-widgets/base",
      "_model_module_version": "1.2.0",
      "_model_name": "LayoutModel",
      "_view_count": null,
      "_view_module": "@jupyter-widgets/base",
      "_view_module_version": "1.2.0",
      "_view_name": "LayoutView",
      "align_content": null,
      "align_items": null,
      "align_self": null,
      "border": null,
      "bottom": null,
      "display": null,
      "flex": null,
      "flex_flow": null,
      "grid_area": null,
      "grid_auto_columns": null,
      "grid_auto_flow": null,
      "grid_auto_rows": null,
      "grid_column": null,
      "grid_gap": null,
      "grid_row": null,
      "grid_template_areas": null,
      "grid_template_columns": null,
      "grid_template_rows": null,
      "height": null,
      "justify_content": null,
      "justify_items": null,
      "left": null,
      "margin": null,
      "max_height": null,
      "max_width": null,
      "min_height": null,
      "min_width": null,
      "object_fit": null,
      "object_position": null,
      "order": null,
      "overflow": null,
      "overflow_x": null,
      "overflow_y": null,
      "padding": null,
      "right": null,
      "top": null,
      "visibility": null,
      "width": null
     }
    },
    "f6a30eb703924f39a2d1871cd5d790fa": {
     "model_module": "@jupyter-widgets/controls",
     "model_name": "FloatProgressModel",
     "state": {
      "_dom_classes": [],
      "_model_module": "@jupyter-widgets/controls",
      "_model_module_version": "1.5.0",
      "_model_name": "FloatProgressModel",
      "_view_count": null,
      "_view_module": "@jupyter-widgets/controls",
      "_view_module_version": "1.5.0",
      "_view_name": "ProgressView",
      "bar_style": "success",
      "description": "Downloading: 100%",
      "description_tooltip": null,
      "layout": "IPY_MODEL_1d103ef8e9a14ca5b1f57079372a9615",
      "max": 313,
      "min": 0,
      "orientation": "horizontal",
      "style": "IPY_MODEL_0e993b716be84e71806c8b0028522b2f",
      "value": 313
     }
    }
   }
  }
 },
 "nbformat": 4,
 "nbformat_minor": 1
}
